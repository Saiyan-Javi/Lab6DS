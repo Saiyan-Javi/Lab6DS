{
 "cells": [
  {
   "cell_type": "markdown",
   "id": "c896f7bb",
   "metadata": {},
   "source": [
    "# Laboratorio 6\n",
    "## Data Science\n",
    "Javier Alejandro Ovalle Chiquín, 22103  \n",
    "José Ángel Morales Farfán, 22689  \n",
    "Ricardo Josué Morales Contreras, 22289"
   ]
  },
  {
   "cell_type": "code",
   "execution_count": null,
   "id": "22c6df7b",
   "metadata": {},
   "outputs": [],
   "source": []
  }
 ],
 "metadata": {
  "language_info": {
   "name": "python"
  }
 },
 "nbformat": 4,
 "nbformat_minor": 5
}
